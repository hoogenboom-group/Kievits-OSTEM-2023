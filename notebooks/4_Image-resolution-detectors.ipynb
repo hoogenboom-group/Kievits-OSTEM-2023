{
 "cells": [
  {
   "cell_type": "markdown",
   "id": "b6a548f3",
   "metadata": {},
   "source": [
    "# **Resolution measurements on gold NPs**\n",
    "---\n",
    "#### Overview\n",
    "* Load edge width data measured with FEI image\n",
    "* Plot boxplots of edge width distributions"
   ]
  },
  {
   "cell_type": "code",
   "execution_count": 9,
   "id": "e6d934fd",
   "metadata": {},
   "outputs": [],
   "source": [
    "from pathlib import Path\n",
    "import pandas as pd"
   ]
  },
  {
   "cell_type": "markdown",
   "id": "6dcaa5a4-d999-4275-96c6-dad6b0c07071",
   "metadata": {},
   "source": [
    "### 1.1 Load edge width data measured with FEI Image\n",
    "---"
   ]
  },
  {
   "cell_type": "code",
   "execution_count": 5,
   "id": "dc1bcbd0-701c-417e-8fe3-714a0289bed3",
   "metadata": {},
   "outputs": [
    {
     "data": {
      "text/html": [
       "<div>\n",
       "<style scoped>\n",
       "    .dataframe tbody tr th:only-of-type {\n",
       "        vertical-align: middle;\n",
       "    }\n",
       "\n",
       "    .dataframe tbody tr th {\n",
       "        vertical-align: top;\n",
       "    }\n",
       "\n",
       "    .dataframe thead th {\n",
       "        text-align: right;\n",
       "    }\n",
       "</style>\n",
       "<table border=\"1\" class=\"dataframe\">\n",
       "  <thead>\n",
       "    <tr style=\"text-align: right;\">\n",
       "      <th></th>\n",
       "      <th>FilePos</th>\n",
       "      <th>DetectionMode</th>\n",
       "      <th>Dwell</th>\n",
       "      <th>Pxsize</th>\n",
       "      <th>LE</th>\n",
       "    </tr>\n",
       "  </thead>\n",
       "  <tbody>\n",
       "    <tr>\n",
       "      <th>30</th>\n",
       "      <td>..\\data\\4_Image_resolution-detectors\\UHR\\SE_4k...</td>\n",
       "      <td>SE</td>\n",
       "      <td>10000</td>\n",
       "      <td>0.5</td>\n",
       "      <td>4</td>\n",
       "    </tr>\n",
       "    <tr>\n",
       "      <th>2</th>\n",
       "      <td>..\\data\\4_Image_resolution-detectors\\UHR\\ADF-S...</td>\n",
       "      <td>ADF-STEM</td>\n",
       "      <td>3000</td>\n",
       "      <td>0.2</td>\n",
       "      <td>25</td>\n",
       "    </tr>\n",
       "    <tr>\n",
       "      <th>9</th>\n",
       "      <td>..\\data\\4_Image_resolution-detectors\\UHR\\BSD_4...</td>\n",
       "      <td>BSD</td>\n",
       "      <td>10000</td>\n",
       "      <td>0.5</td>\n",
       "      <td>4</td>\n",
       "    </tr>\n",
       "    <tr>\n",
       "      <th>17</th>\n",
       "      <td>..\\data\\4_Image_resolution-detectors\\UHR\\OSTEM...</td>\n",
       "      <td>OSTEM</td>\n",
       "      <td>10000</td>\n",
       "      <td>0.5</td>\n",
       "      <td>4</td>\n",
       "    </tr>\n",
       "    <tr>\n",
       "      <th>4</th>\n",
       "      <td>..\\data\\4_Image_resolution-detectors\\UHR\\ADF-S...</td>\n",
       "      <td>ADF-STEM</td>\n",
       "      <td>3000</td>\n",
       "      <td>0.2</td>\n",
       "      <td>25</td>\n",
       "    </tr>\n",
       "  </tbody>\n",
       "</table>\n",
       "</div>"
      ],
      "text/plain": [
       "                                              FilePos DetectionMode  Dwell  \\\n",
       "30  ..\\data\\4_Image_resolution-detectors\\UHR\\SE_4k...            SE  10000   \n",
       "2   ..\\data\\4_Image_resolution-detectors\\UHR\\ADF-S...      ADF-STEM   3000   \n",
       "9   ..\\data\\4_Image_resolution-detectors\\UHR\\BSD_4...           BSD  10000   \n",
       "17  ..\\data\\4_Image_resolution-detectors\\UHR\\OSTEM...         OSTEM  10000   \n",
       "4   ..\\data\\4_Image_resolution-detectors\\UHR\\ADF-S...      ADF-STEM   3000   \n",
       "\n",
       "   Pxsize  LE  \n",
       "30    0.5   4  \n",
       "2     0.2  25  \n",
       "9     0.5   4  \n",
       "17    0.5   4  \n",
       "4     0.2  25  "
      ]
     },
     "execution_count": 5,
     "metadata": {},
     "output_type": "execute_result"
    }
   ],
   "source": [
    "# Find directory\n",
    "DATA_dir = Path(\"../data/4_Image_resolution-detectors/UHR\")\n",
    "\n",
    "# Select files and initialize DataFrame with image locations\n",
    "df_ew = pd.DataFrame({'FilePos': list(DATA_dir.glob('*/*.csv'))})\n",
    "\n",
    "# Build up DataFrame\n",
    "df_ew['DetectionMode'] = df_ew['FilePos'].apply(lambda x: x.parent.name.split('_')[0])\n",
    "df_ew['Dwell'] = df_ew['FilePos'].apply(lambda x: x.parent.name.split('_')[3].split('ns')[0])\n",
    "df_ew['Pxsize'] = df_ew['FilePos'].apply(lambda x: x.parent.name.split('_')[2].split('nm')[0])\n",
    "df_ew['LE'] = df_ew['FilePos'].apply(lambda x: x.parent.name.split('_')[1].split('keV')[0])\n",
    "\n",
    "# Preview\n",
    "df_ew.sort_values(['DetectionMode', 'LE'], inplace=True)\n",
    "df_ew.sample(5)"
   ]
  },
  {
   "cell_type": "code",
   "execution_count": 6,
   "id": "20f8b5c2-5265-490d-9ea7-f62d3fc088cc",
   "metadata": {},
   "outputs": [
    {
     "data": {
      "text/html": [
       "<div>\n",
       "<style scoped>\n",
       "    .dataframe tbody tr th:only-of-type {\n",
       "        vertical-align: middle;\n",
       "    }\n",
       "\n",
       "    .dataframe tbody tr th {\n",
       "        vertical-align: top;\n",
       "    }\n",
       "\n",
       "    .dataframe thead th {\n",
       "        text-align: right;\n",
       "    }\n",
       "</style>\n",
       "<table border=\"1\" class=\"dataframe\">\n",
       "  <thead>\n",
       "    <tr style=\"text-align: right;\">\n",
       "      <th></th>\n",
       "      <th></th>\n",
       "      <th></th>\n",
       "      <th></th>\n",
       "      <th>FilePos</th>\n",
       "      <th>DetectionMode</th>\n",
       "      <th>Dwell</th>\n",
       "      <th>Pxsize</th>\n",
       "      <th>LE</th>\n",
       "    </tr>\n",
       "    <tr>\n",
       "      <th>DetectionMode</th>\n",
       "      <th>LE</th>\n",
       "      <th>Dwell</th>\n",
       "      <th></th>\n",
       "      <th></th>\n",
       "      <th></th>\n",
       "      <th></th>\n",
       "      <th></th>\n",
       "      <th></th>\n",
       "    </tr>\n",
       "  </thead>\n",
       "  <tbody>\n",
       "    <tr>\n",
       "      <th>ADF-STEM</th>\n",
       "      <th>25</th>\n",
       "      <th>3000</th>\n",
       "      <th>0</th>\n",
       "      <td>..\\data\\4_Image_resolution-detectors\\UHR\\ADF-S...</td>\n",
       "      <td>ADF-STEM</td>\n",
       "      <td>3000</td>\n",
       "      <td>0.2</td>\n",
       "      <td>25</td>\n",
       "    </tr>\n",
       "    <tr>\n",
       "      <th rowspan=\"2\" valign=\"top\">BSD</th>\n",
       "      <th>1.5</th>\n",
       "      <th>20000</th>\n",
       "      <th>6</th>\n",
       "      <td>..\\data\\4_Image_resolution-detectors\\UHR\\BSD_1...</td>\n",
       "      <td>BSD</td>\n",
       "      <td>20000</td>\n",
       "      <td>0.5</td>\n",
       "      <td>1.5</td>\n",
       "    </tr>\n",
       "    <tr>\n",
       "      <th>4</th>\n",
       "      <th>10000</th>\n",
       "      <th>9</th>\n",
       "      <td>..\\data\\4_Image_resolution-detectors\\UHR\\BSD_4...</td>\n",
       "      <td>BSD</td>\n",
       "      <td>10000</td>\n",
       "      <td>0.5</td>\n",
       "      <td>4</td>\n",
       "    </tr>\n",
       "    <tr>\n",
       "      <th>OSTEM</th>\n",
       "      <th>4</th>\n",
       "      <th>10000</th>\n",
       "      <th>14</th>\n",
       "      <td>..\\data\\4_Image_resolution-detectors\\UHR\\OSTEM...</td>\n",
       "      <td>OSTEM</td>\n",
       "      <td>10000</td>\n",
       "      <td>0.5</td>\n",
       "      <td>4</td>\n",
       "    </tr>\n",
       "    <tr>\n",
       "      <th rowspan=\"2\" valign=\"top\">SE</th>\n",
       "      <th>1.5</th>\n",
       "      <th>10000</th>\n",
       "      <th>19</th>\n",
       "      <td>..\\data\\4_Image_resolution-detectors\\UHR\\SE_1....</td>\n",
       "      <td>SE</td>\n",
       "      <td>10000</td>\n",
       "      <td>0.5</td>\n",
       "      <td>1.5</td>\n",
       "    </tr>\n",
       "    <tr>\n",
       "      <th>4</th>\n",
       "      <th>10000</th>\n",
       "      <th>26</th>\n",
       "      <td>..\\data\\4_Image_resolution-detectors\\UHR\\SE_4k...</td>\n",
       "      <td>SE</td>\n",
       "      <td>10000</td>\n",
       "      <td>0.5</td>\n",
       "      <td>4</td>\n",
       "    </tr>\n",
       "  </tbody>\n",
       "</table>\n",
       "</div>"
      ],
      "text/plain": [
       "                                                                      FilePos  \\\n",
       "DetectionMode LE  Dwell                                                         \n",
       "ADF-STEM      25  3000  0   ..\\data\\4_Image_resolution-detectors\\UHR\\ADF-S...   \n",
       "BSD           1.5 20000 6   ..\\data\\4_Image_resolution-detectors\\UHR\\BSD_1...   \n",
       "              4   10000 9   ..\\data\\4_Image_resolution-detectors\\UHR\\BSD_4...   \n",
       "OSTEM         4   10000 14  ..\\data\\4_Image_resolution-detectors\\UHR\\OSTEM...   \n",
       "SE            1.5 10000 19  ..\\data\\4_Image_resolution-detectors\\UHR\\SE_1....   \n",
       "              4   10000 26  ..\\data\\4_Image_resolution-detectors\\UHR\\SE_4k...   \n",
       "\n",
       "                           DetectionMode  Dwell Pxsize   LE  \n",
       "DetectionMode LE  Dwell                                      \n",
       "ADF-STEM      25  3000  0       ADF-STEM   3000    0.2   25  \n",
       "BSD           1.5 20000 6            BSD  20000    0.5  1.5  \n",
       "              4   10000 9            BSD  10000    0.5    4  \n",
       "OSTEM         4   10000 14         OSTEM  10000    0.5    4  \n",
       "SE            1.5 10000 19            SE  10000    0.5  1.5  \n",
       "              4   10000 26            SE  10000    0.5    4  "
      ]
     },
     "execution_count": 6,
     "metadata": {},
     "output_type": "execute_result"
    }
   ],
   "source": [
    "source2 = df_ew.groupby(by=['DetectionMode', 'LE','Dwell'])\\\n",
    "              .apply(lambda x: x.head(1))\n",
    "source2"
   ]
  },
  {
   "cell_type": "markdown",
   "id": "669e8b8c",
   "metadata": {},
   "source": [
    "### 1.2 Collect edge widths per detection condition\n",
    "---"
   ]
  },
  {
   "cell_type": "code",
   "execution_count": 7,
   "id": "37dd710f-918a-43e7-aa54-2e7ac8f0a94d",
   "metadata": {},
   "outputs": [
    {
     "data": {
      "application/vnd.jupyter.widget-view+json": {
       "model_id": "f6db740c58aa44c5ad6fd93aa9d42cd9",
       "version_major": 2,
       "version_minor": 0
      },
      "text/plain": [
       "  0%|          | 0/6 [00:00<?, ?it/s]"
      ]
     },
     "metadata": {},
     "output_type": "display_data"
    },
    {
     "data": {
      "application/vnd.jupyter.widget-view+json": {
       "model_id": "7374ce7e1361487b871a82eb0b8fd96b",
       "version_major": 2,
       "version_minor": 0
      },
      "text/plain": [
       "  0%|          | 0/6 [00:00<?, ?it/s]"
      ]
     },
     "metadata": {},
     "output_type": "display_data"
    },
    {
     "data": {
      "application/vnd.jupyter.widget-view+json": {
       "model_id": "59f818d0bc03458ca82ca08dce7c257f",
       "version_major": 2,
       "version_minor": 0
      },
      "text/plain": [
       "  0%|          | 0/3 [00:00<?, ?it/s]"
      ]
     },
     "metadata": {},
     "output_type": "display_data"
    },
    {
     "data": {
      "application/vnd.jupyter.widget-view+json": {
       "model_id": "505b58ee6a7e49ffaeb9a6c4ec388634",
       "version_major": 2,
       "version_minor": 0
      },
      "text/plain": [
       "  0%|          | 0/5 [00:00<?, ?it/s]"
      ]
     },
     "metadata": {},
     "output_type": "display_data"
    },
    {
     "data": {
      "application/vnd.jupyter.widget-view+json": {
       "model_id": "79bc51d6301b4625b9374c38a1a23351",
       "version_major": 2,
       "version_minor": 0
      },
      "text/plain": [
       "  0%|          | 0/5 [00:00<?, ?it/s]"
      ]
     },
     "metadata": {},
     "output_type": "display_data"
    },
    {
     "data": {
      "application/vnd.jupyter.widget-view+json": {
       "model_id": "c7d06eef941248d3b4ca8b20944ddb46",
       "version_major": 2,
       "version_minor": 0
      },
      "text/plain": [
       "  0%|          | 0/7 [00:00<?, ?it/s]"
      ]
     },
     "metadata": {},
     "output_type": "display_data"
    },
    {
     "data": {
      "application/vnd.jupyter.widget-view+json": {
       "model_id": "f24640c565c44907842ff8535be79bd2",
       "version_major": 2,
       "version_minor": 0
      },
      "text/plain": [
       "  0%|          | 0/8 [00:00<?, ?it/s]"
      ]
     },
     "metadata": {},
     "output_type": "display_data"
    },
    {
     "data": {
      "text/html": [
       "<div>\n",
       "<style scoped>\n",
       "    .dataframe tbody tr th:only-of-type {\n",
       "        vertical-align: middle;\n",
       "    }\n",
       "\n",
       "    .dataframe tbody tr th {\n",
       "        vertical-align: top;\n",
       "    }\n",
       "\n",
       "    .dataframe thead th {\n",
       "        text-align: right;\n",
       "    }\n",
       "</style>\n",
       "<table border=\"1\" class=\"dataframe\">\n",
       "  <thead>\n",
       "    <tr style=\"text-align: right;\">\n",
       "      <th></th>\n",
       "      <th>DetectionMode</th>\n",
       "      <th>LE</th>\n",
       "      <th>Dwell</th>\n",
       "      <th>EdgeWidths</th>\n",
       "    </tr>\n",
       "  </thead>\n",
       "  <tbody>\n",
       "    <tr>\n",
       "      <th>9</th>\n",
       "      <td>BSD</td>\n",
       "      <td>4</td>\n",
       "      <td>10000</td>\n",
       "      <td>[1.4553488414392701, 1.4553488414392701, 1.455...</td>\n",
       "    </tr>\n",
       "    <tr>\n",
       "      <th>30</th>\n",
       "      <td>SE</td>\n",
       "      <td>4</td>\n",
       "      <td>10000</td>\n",
       "      <td>[1.66360281106392, 1.66360281106392, 1.6636028...</td>\n",
       "    </tr>\n",
       "    <tr>\n",
       "      <th>7</th>\n",
       "      <td>BSD</td>\n",
       "      <td>1.5</td>\n",
       "      <td>20000</td>\n",
       "      <td>[0.46751880145024, 0.46751880145024, 0.4675188...</td>\n",
       "    </tr>\n",
       "  </tbody>\n",
       "</table>\n",
       "</div>"
      ],
      "text/plain": [
       "   DetectionMode   LE  Dwell  \\\n",
       "9            BSD    4  10000   \n",
       "30            SE    4  10000   \n",
       "7            BSD  1.5  20000   \n",
       "\n",
       "                                           EdgeWidths  \n",
       "9   [1.4553488414392701, 1.4553488414392701, 1.455...  \n",
       "30  [1.66360281106392, 1.66360281106392, 1.6636028...  \n",
       "7   [0.46751880145024, 0.46751880145024, 0.4675188...  "
      ]
     },
     "execution_count": 7,
     "metadata": {},
     "output_type": "execute_result"
    }
   ],
   "source": [
    "# Get histograms of edge widths\n",
    "source2 = df_ew.copy()\n",
    "\n",
    "# Initialize DataFrame to gather data per detection condition\n",
    "df_ew_per_con = pd.DataFrame(columns=['DetectionMode', 'LE', \n",
    "                                     'Dwell', 'EdgeWidths'])\n",
    "\n",
    "# Select subset of data files with same detection settings\n",
    "for grp in tqdm(source2.groupby(by=['DetectionMode', 'LE','Dwell'])):\n",
    "    \n",
    "    # Select subset of data files with same detection settings\n",
    "    for i, row in tqdm(grp[1].iterrows(), total=len(grp[1])):\n",
    "        \n",
    "        # Create empty array for edge widths\n",
    "        ews = np.array([])\n",
    "        \n",
    "        # Read csv\n",
    "        dist = np.loadtxt(row.FilePos, delimiter='  ')\n",
    "        \n",
    "        # Fill up np array with data\n",
    "        data = np.zeros(int(np.sum(dist[:,1])))\n",
    "        start = 0\n",
    "        for value in dist:\n",
    "            norv = int(value[1]) # number of repeated values\n",
    "            data[start:(start+norv)] = value[0]\n",
    "            start = start + norv # update\n",
    "        data = data * 1e9 # nm\n",
    "            \n",
    "        # Populate DataFrame\n",
    "        df_ew_per_con.loc[i, 'DetectionMode'] = row['DetectionMode']\n",
    "        df_ew_per_con.loc[i, 'LE'] = row['LE']\n",
    "        df_ew_per_con.loc[i, 'Dwell'] = row['Dwell']\n",
    "        df_ew_per_con.loc[i, 'EdgeWidths'] = data.tolist()\n",
    "df_ew_per_con.sample(3)"
   ]
  },
  {
   "cell_type": "markdown",
   "id": "9916bc3b-1332-40ba-9453-f94a687247b4",
   "metadata": {},
   "source": [
    "### 1.3 Plot distributions of edge width per detection condition\n",
    "---"
   ]
  },
  {
   "cell_type": "code",
   "execution_count": 8,
   "id": "dec72381-1b9c-4edd-b352-774d8b102da2",
   "metadata": {},
   "outputs": [
    {
     "data": {
      "image/png": "[encoded data removed]",
      "text/plain": [
       "<Figure size 648x288 with 1 Axes>"
      ]
     },
     "metadata": {
      "needs_background": "light"
     },
     "output_type": "display_data"
    }
   ],
   "source": [
    "# Data\n",
    "source4 = df_ew_per_con.copy()\n",
    "fs = 15\n",
    "\n",
    "# Make figure\n",
    "fig, ax = plt.subplots(figsize=(9, 4))\n",
    "ews = []\n",
    "labels = []\n",
    "legend = ['ADF-STEM','BSD','BSD','OSTEM','SE','SE']\n",
    "\n",
    "# Plot results\n",
    "for j, grp in enumerate(source4.groupby(by=['DetectionMode', 'LE', 'Dwell'])):\n",
    "    \n",
    "    # Aggregate particles per subset of images\n",
    "    ew_subset = []\n",
    "    \n",
    "    # Select subset of images with same detection settings\n",
    "    for i, row in grp[1].iterrows():\n",
    "        ew_subset = ew_subset + row['EdgeWidths']\n",
    "    ews.append(ew_subset)\n",
    "    labels.append(f\"{legend[j]} | {row['LE']} keV\")\n",
    "\n",
    "# Plot boxplot\n",
    "ax.boxplot(ews, labels=labels, showfliers=False)   \n",
    "\n",
    "# Axes aesthetics\n",
    "ax.grid(which='both', ls=':') \n",
    "ax.set_title('Resolution', fontsize=fs)\n",
    "ax.set_ylabel('Edgewidth (nm)', fontsize=fs)\n",
    "plt.tight_layout()    \n",
    "# plt.savefig('35%-65%-edgewith', dpi=150)"
   ]
  },
  {
   "cell_type": "code",
   "execution_count": null,
   "id": "e4046028-9b7a-4b61-8e29-23d22091c394",
   "metadata": {},
   "outputs": [],
   "source": []
  }
 ],
 "metadata": {
  "kernelspec": {
   "display_name": "Python 3 (ipykernel)",
   "language": "python",
   "name": "python3"
  },
  "language_info": {
   "codemirror_mode": {
    "name": "ipython",
    "version": 3
   },
   "file_extension": ".py",
   "mimetype": "text/x-python",
   "name": "python",
   "nbconvert_exporter": "python",
   "pygments_lexer": "ipython3",
   "version": "3.9.7"
  }
 },
 "nbformat": 4,
 "nbformat_minor": 5
}
